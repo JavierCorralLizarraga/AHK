{
  "nbformat": 4,
  "nbformat_minor": 0,
  "metadata": {
    "colab": {
      "name": "SHData.ipynb",
      "provenance": [],
      "collapsed_sections": [],
      "authorship_tag": "ABX9TyMCucfEPGGf6o25j8qI4gCE",
      "include_colab_link": true
    },
    "kernelspec": {
      "name": "python3",
      "display_name": "Python 3"
    }
  },
  "cells": [
    {
      "cell_type": "markdown",
      "metadata": {
        "id": "view-in-github",
        "colab_type": "text"
      },
      "source": [
        "<a href=\"https://colab.research.google.com/github/JavierCorralLizarraga/AHK/blob/master/SHData.ipynb\" target=\"_parent\"><img src=\"https://colab.research.google.com/assets/colab-badge.svg\" alt=\"Open In Colab\"/></a>"
      ]
    },
    {
      "cell_type": "code",
      "metadata": {
        "id": "GfrgC0Ob_VFn",
        "colab_type": "code",
        "colab": {}
      },
      "source": [
        "import pandas as pd\n",
        "import json       "
      ],
      "execution_count": 4,
      "outputs": []
    },
    {
      "cell_type": "code",
      "metadata": {
        "id": "FmdZbZQmLcwY",
        "colab_type": "code",
        "colab": {}
      },
      "source": [
        "''' tests de estas mamadas '''\n",
        "jsonx = '[{\"heart_rate\":111.0,\"heart_rate_max\":112.0,\"heart_rate_min\":111.0,\"start_time\":1585152000000,\"end_time\":1585152059000},{\"heart_rate\":114.0,\"heart_rate_max\":116.0,\"heart_rate_min\":112.0,\"start_time\":1585152120000,\"end_time\":1585152179000},{\"heart_rate\":114.0,\"heart_rate_max\":116.0,\"heart_rate_min\":112.0,\"start_time\":1585152180000,\"end_time\":1585152239000},{\"heart_rate\":108.0,\"heart_rate_max\":114.0,\"heart_rate_min\":103.0,\"start_time\":1585152240000,\"end_time\":1585152299000},{\"heart_rate\":97.0,\"heart_rate_max\":103.0,\"heart_rate_min\":92.0,\"start_time\":1585152300000,\"end_time\":1585152359000},{\"heart_rate\":83.0,\"heart_rate_max\":94.0,\"heart_rate_min\":77.0,\"start_time\":1585152360000,\"end_time\":1585152419000},{\"heart_rate\":83.0,\"heart_rate_max\":89.0,\"heart_rate_min\":76.0,\"start_time\":1585152420000,\"end_time\":1585152479000},{\"heart_rate\":83.0,\"heart_rate_max\":86.0,\"heart_rate_min\":79.0,\"start_time\":1585152480000,\"end_time\":1585152539000},{\"heart_rate\":83.0,\"heart_rate_max\":87.0,\"heart_rate_min\":79.0,\"start_time\":1585152540000,\"end_time\":1585152599000},{\"heart_rate\":66.0,\"heart_rate_max\":78.0,\"heart_rate_min\":60.0,\"start_time\":1585152600000,\"end_time\":1585152659000},{\"heart_rate\":68.0,\"heart_rate_max\":73.0,\"heart_rate_min\":66.0,\"start_time\":1585152660000,\"end_time\":1585152719000},{\"heart_rate\":73.0,\"heart_rate_max\":82.0,\"heart_rate_min\":65.0,\"start_time\":1585152720000,\"end_time\":1585152779000},{\"heart_rate\":62.0,\"heart_rate_max\":71.0,\"heart_rate_min\":56.0,\"start_time\":1585152780000,\"end_time\":1585152839000},{\"heart_rate\":58.0,\"heart_rate_max\":61.0,\"heart_rate_min\":54.0,\"start_time\":1585152840000,\"end_time\":1585152899000},{\"heart_rate\":61.0,\"heart_rate_max\":66.0,\"heart_rate_min\":57.0,\"start_time\":1585152900000,\"end_time\":1585152959000},{\"heart_rate\":56.0,\"heart_rate_max\":62.0,\"heart_rate_min\":53.0,\"start_time\":1585152960000,\"end_time\":1585153019000},{\"heart_rate\":56.0,\"heart_rate_max\":59.0,\"heart_rate_min\":54.0,\"start_time\":1585153020000,\"end_time\":1585153079000},{\"heart_rate\":63.0,\"heart_rate_max\":75.0,\"heart_rate_min\":56.0,\"start_time\":1585153080000,\"end_time\":1585153139000},{\"heart_rate\":76.0,\"heart_rate_max\":83.0,\"heart_rate_min\":68.0,\"start_time\":1585153140000,\"end_time\":1585153199000},{\"heart_rate\":80.0,\"heart_rate_max\":83.0,\"heart_rate_min\":79.0,\"start_time\":1585153200000,\"end_time\":1585153259000},{\"heart_rate\":80.0,\"heart_rate_max\":83.0,\"heart_rate_min\":78.0,\"start_time\":1585153260000,\"end_time\":1585153319000},{\"heart_rate\":81.0,\"heart_rate_max\":87.0,\"heart_rate_min\":78.0,\"start_time\":1585153320000,\"end_time\":1585153379000},{\"heart_rate\":85.0,\"heart_rate_max\":92.0,\"heart_rate_min\":78.0,\"start_time\":1585153380000,\"end_time\":1585153439000},{\"heart_rate\":84.0,\"heart_rate_max\":89.0,\"heart_rate_min\":79.0,\"start_time\":1585153440000,\"end_time\":1585153499000},{\"heart_rate\":85.0,\"heart_rate_max\":92.0,\"heart_rate_min\":80.0,\"start_time\":1585153500000,\"end_time\":1585153559000},{\"heart_rate\":87.0,\"heart_rate_max\":93.0,\"heart_rate_min\":82.0,\"start_time\":1585153560000,\"end_time\":1585153619000},{\"heart_rate\":99.0,\"heart_rate_max\":104.0,\"heart_rate_min\":96.0,\"start_time\":1585153620000,\"end_time\":1585153679000},{\"heart_rate\":104.0,\"heart_rate_max\":107.0,\"heart_rate_min\":100.0,\"start_time\":1585153680000,\"end_time\":1585153739000},{\"heart_rate\":105.0,\"heart_rate_max\":113.0,\"heart_rate_min\":98.0,\"start_time\":1585153740000,\"end_time\":1585153799000},{\"heart_rate\":101.0,\"heart_rate_max\":106.0,\"heart_rate_min\":95.0,\"start_time\":1585153800000,\"end_time\":1585153859000},{\"heart_rate\":107.0,\"heart_rate_max\":112.0,\"heart_rate_min\":104.0,\"start_time\":1585153860000,\"end_time\":1585153919000},{\"heart_rate\":115.0,\"heart_rate_max\":116.0,\"heart_rate_min\":114.0,\"start_time\":1585153920000,\"end_time\":1585153979000},{\"heart_rate\":114.0,\"heart_rate_max\":117.0,\"heart_rate_min\":112.0,\"start_time\":1585153980000,\"end_time\":1585154039000},{\"heart_rate\":65.0,\"heart_rate_max\":113.0,\"heart_rate_min\":57.0,\"start_time\":1585154040000,\"end_time\":1585154099000},{\"heart_rate\":62.0,\"heart_rate_max\":66.0,\"heart_rate_min\":57.0,\"start_time\":1585154100000,\"end_time\":1585154159000},{\"heart_rate\":60.0,\"heart_rate_max\":64.0,\"heart_rate_min\":55.0,\"start_time\":1585154160000,\"end_time\":1585154219000},{\"heart_rate\":64.0,\"heart_rate_max\":76.0,\"heart_rate_min\":58.0,\"start_time\":1585154220000,\"end_time\":1585154279000},{\"heart_rate\":67.0,\"heart_rate_max\":75.0,\"heart_rate_min\":61.0,\"start_time\":1585154280000,\"end_time\":1585154339000},{\"heart_rate\":66.0,\"heart_rate_max\":74.0,\"heart_rate_min\":61.0,\"start_time\":1585154340000,\"end_time\":1585154399000},{\"heart_rate\":68.0,\"heart_rate_max\":72.0,\"heart_rate_min\":62.0,\"start_time\":1585154400000,\"end_time\":1585154459000},{\"heart_rate\":70.0,\"heart_rate_max\":75.0,\"heart_rate_min\":67.0,\"start_time\":1585154460000,\"end_time\":1585154519000},{\"heart_rate\":66.0,\"heart_rate_max\":78.0,\"heart_rate_min\":60.0,\"start_time\":1585154520000,\"end_time\":1585154579000},{\"heart_rate\":77.0,\"heart_rate_max\":82.0,\"heart_rate_min\":71.0,\"start_time\":1585154580000,\"end_time\":1585154639000},{\"heart_rate\":73.0,\"heart_rate_max\":81.0,\"heart_rate_min\":67.0,\"start_time\":1585154640000,\"end_time\":1585154699000},{\"heart_rate\":72.0,\"heart_rate_max\":80.0,\"heart_rate_min\":63.0,\"start_time\":1585154700000,\"end_time\":1585154759000},{\"heart_rate\":62.0,\"heart_rate_max\":67.0,\"heart_rate_min\":58.0,\"start_time\":1585154760000,\"end_time\":1585154819000},{\"heart_rate\":62.0,\"heart_rate_max\":66.0,\"heart_rate_min\":59.0,\"start_time\":1585154820000,\"end_time\":1585154879000},{\"heart_rate\":65.0,\"heart_rate_max\":69.0,\"heart_rate_min\":64.0,\"start_time\":1585154880000,\"end_time\":1585154939000},{\"heart_rate\":65.0,\"heart_rate_max\":70.0,\"heart_rate_min\":61.0,\"start_time\":1585154940000,\"end_time\":1585154999000},{\"heart_rate\":66.0,\"heart_rate_max\":70.0,\"heart_rate_min\":63.0,\"start_time\":1585155000000,\"end_time\":1585155059000},{\"heart_rate\":72.0,\"heart_rate_max\":79.0,\"heart_rate_min\":63.0,\"start_time\":1585155060000,\"end_time\":1585155119000},{\"heart_rate\":64.0,\"heart_rate_max\":69.0,\"heart_rate_min\":62.0,\"start_time\":1585155120000,\"end_time\":1585155179000},{\"heart_rate\":72.0,\"heart_rate_max\":84.0,\"heart_rate_min\":64.0,\"start_time\":1585155180000,\"end_time\":1585155239000},{\"heart_rate\":73.0,\"heart_rate_max\":80.0,\"heart_rate_min\":67.0,\"start_time\":1585155240000,\"end_time\":1585155299000},{\"heart_rate\":81.0,\"heart_rate_max\":88.0,\"heart_rate_min\":71.0,\"start_time\":1585155300000,\"end_time\":1585155359000},{\"heart_rate\":84.0,\"heart_rate_max\":87.0,\"heart_rate_min\":82.0,\"start_time\":1585155360000,\"end_time\":1585155419000},{\"heart_rate\":70.0,\"heart_rate_max\":86.0,\"heart_rate_min\":57.0,\"start_time\":1585155420000,\"end_time\":1585155479000},{\"heart_rate\":63.0,\"heart_rate_max\":70.0,\"heart_rate_min\":60.0,\"start_time\":1585155480000,\"end_time\":1585155539000},{\"heart_rate\":60.0,\"heart_rate_max\":64.0,\"heart_rate_min\":59.0,\"start_time\":1585155540000,\"end_time\":1585155599000}]'\n",
        "json.loads(jsonx)\n",
        "#pd.read_json(jsonx)\n",
        "# df2 = pd.(jsonx)"
      ],
      "execution_count": null,
      "outputs": []
    },
    {
      "cell_type": "code",
      "metadata": {
        "id": "4fQ6NOSs8Ia_",
        "colab_type": "code",
        "colab": {}
      },
      "source": [
        "abril25_4PM = pd.read_json(jsonx)"
      ],
      "execution_count": 31,
      "outputs": []
    },
    {
      "cell_type": "code",
      "metadata": {
        "id": "CwXH0Dfx8N7X",
        "colab_type": "code",
        "colab": {
          "base_uri": "https://localhost:8080/",
          "height": 204
        },
        "outputId": "617fbbea-9a5a-427d-cf6f-7b2569092dc3"
      },
      "source": [
        "abril25_4PM.head(5)"
      ],
      "execution_count": 32,
      "outputs": [
        {
          "output_type": "execute_result",
          "data": {
            "text/html": [
              "<div>\n",
              "<style scoped>\n",
              "    .dataframe tbody tr th:only-of-type {\n",
              "        vertical-align: middle;\n",
              "    }\n",
              "\n",
              "    .dataframe tbody tr th {\n",
              "        vertical-align: top;\n",
              "    }\n",
              "\n",
              "    .dataframe thead th {\n",
              "        text-align: right;\n",
              "    }\n",
              "</style>\n",
              "<table border=\"1\" class=\"dataframe\">\n",
              "  <thead>\n",
              "    <tr style=\"text-align: right;\">\n",
              "      <th></th>\n",
              "      <th>heart_rate</th>\n",
              "      <th>heart_rate_max</th>\n",
              "      <th>heart_rate_min</th>\n",
              "      <th>start_time</th>\n",
              "      <th>end_time</th>\n",
              "    </tr>\n",
              "  </thead>\n",
              "  <tbody>\n",
              "    <tr>\n",
              "      <th>0</th>\n",
              "      <td>111</td>\n",
              "      <td>112</td>\n",
              "      <td>111</td>\n",
              "      <td>2020-03-25 16:00:00</td>\n",
              "      <td>2020-03-25 16:00:59</td>\n",
              "    </tr>\n",
              "    <tr>\n",
              "      <th>1</th>\n",
              "      <td>114</td>\n",
              "      <td>116</td>\n",
              "      <td>112</td>\n",
              "      <td>2020-03-25 16:02:00</td>\n",
              "      <td>2020-03-25 16:02:59</td>\n",
              "    </tr>\n",
              "    <tr>\n",
              "      <th>2</th>\n",
              "      <td>114</td>\n",
              "      <td>116</td>\n",
              "      <td>112</td>\n",
              "      <td>2020-03-25 16:03:00</td>\n",
              "      <td>2020-03-25 16:03:59</td>\n",
              "    </tr>\n",
              "    <tr>\n",
              "      <th>3</th>\n",
              "      <td>108</td>\n",
              "      <td>114</td>\n",
              "      <td>103</td>\n",
              "      <td>2020-03-25 16:04:00</td>\n",
              "      <td>2020-03-25 16:04:59</td>\n",
              "    </tr>\n",
              "    <tr>\n",
              "      <th>4</th>\n",
              "      <td>97</td>\n",
              "      <td>103</td>\n",
              "      <td>92</td>\n",
              "      <td>2020-03-25 16:05:00</td>\n",
              "      <td>2020-03-25 16:05:59</td>\n",
              "    </tr>\n",
              "  </tbody>\n",
              "</table>\n",
              "</div>"
            ],
            "text/plain": [
              "   heart_rate  heart_rate_max  ...          start_time            end_time\n",
              "0         111             112  ... 2020-03-25 16:00:00 2020-03-25 16:00:59\n",
              "1         114             116  ... 2020-03-25 16:02:00 2020-03-25 16:02:59\n",
              "2         114             116  ... 2020-03-25 16:03:00 2020-03-25 16:03:59\n",
              "3         108             114  ... 2020-03-25 16:04:00 2020-03-25 16:04:59\n",
              "4          97             103  ... 2020-03-25 16:05:00 2020-03-25 16:05:59\n",
              "\n",
              "[5 rows x 5 columns]"
            ]
          },
          "metadata": {
            "tags": []
          },
          "execution_count": 32
        }
      ]
    },
    {
      "cell_type": "code",
      "metadata": {
        "id": "EBfXUZNq_ptq",
        "colab_type": "code",
        "colab": {}
      },
      "source": [
        "abril25_4PM.heart_rate[1]"
      ],
      "execution_count": null,
      "outputs": []
    },
    {
      "cell_type": "code",
      "metadata": {
        "id": "KblgJN-6ATsK",
        "colab_type": "code",
        "colab": {}
      },
      "source": [
        "abril25_4PM.heart_rate >= 100"
      ],
      "execution_count": null,
      "outputs": []
    },
    {
      "cell_type": "code",
      "metadata": {
        "id": "kFGbTamq2dWd",
        "colab_type": "code",
        "colab": {
          "base_uri": "https://localhost:8080/",
          "height": 282
        },
        "outputId": "44abdecf-b8ca-43a2-d598-c7eed111d872"
      },
      "source": [
        "abril25_4PM.heart_rate.plot(x='A', y='B')"
      ],
      "execution_count": 78,
      "outputs": [
        {
          "output_type": "execute_result",
          "data": {
            "text/plain": [
              "<matplotlib.axes._subplots.AxesSubplot at 0x7fa980ffe518>"
            ]
          },
          "metadata": {
            "tags": []
          },
          "execution_count": 78
        },
        {
          "output_type": "display_data",
          "data": {
            "image/png": "[encoded data removed]",
            "text/plain": [
              "<Figure size 432x288 with 1 Axes>"
            ]
          },
          "metadata": {
            "tags": [],
            "needs_background": "light"
          }
        }
      ]
    },
    {
      "cell_type": "code",
      "metadata": {
        "id": "LId2JwQNEetX",
        "colab_type": "code",
        "colab": {}
      },
      "source": [
        "''' lo mismo que antes pero con un copy paste de un archivo creado con \"cat\" y corregido en vim (es una putiza, no vale la pena)'''\n",
        "#jsonDeDos = '[{\"heart_rate\":111.0,\"heart_rate_max\":112.0,\"heart_rate_min\":111.0,\"start_time\":1585152000000,\"end_time\":1585152059000},{\"heart_rate\":114.0,\"heart_rate_max\":116.0,\"heart_rate_min\":112.0,\"start_time\":1585152120000,\"end_time\":1585152179000},{\"heart_rate\":114.0,\"heart_rate_max\":116.0,\"heart_rate_min\":112.0,\"start_time\":1585152180000,\"end_time\":1585152239000},{\"heart_rate\":108.0,\"heart_rate_max\":114.0,\"heart_rate_min\":103.0,\"start_time\":1585152240000,\"end_time\":1585152299000},{\"heart_rate\":97.0,\"heart_rate_max\":103.0,\"heart_rate_min\":92.0,\"start_time\":1585152300000,\"end_time\":1585152359000},{\"heart_rate\":83.0,\"heart_rate_max\":94.0,\"heart_rate_min\":77.0,\"start_time\":1585152360000,\"end_time\":1585152419000},{\"heart_rate\":83.0,\"heart_rate_max\":89.0,\"heart_rate_min\":76.0,\"start_time\":1585152420000,\"end_time\":1585152479000},{\"heart_rate\":83.0,\"heart_rate_max\":86.0,\"heart_rate_min\":79.0,\"start_time\":1585152480000,\"end_time\":1585152539000},{\"heart_rate\":83.0,\"heart_rate_max\":87.0,\"heart_rate_min\":79.0,\"start_time\":1585152540000,\"end_time\":1585152599000},{\"heart_rate\":66.0,\"heart_rate_max\":78.0,\"heart_rate_min\":60.0,\"start_time\":1585152600000,\"end_time\":1585152659000},{\"heart_rate\":68.0,\"heart_rate_max\":73.0,\"heart_rate_min\":66.0,\"start_time\":1585152660000,\"end_time\":1585152719000},{\"heart_rate\":73.0,\"heart_rate_max\":82.0,\"heart_rate_min\":65.0,\"start_time\":1585152720000,\"end_time\":1585152779000},{\"heart_rate\":62.0,\"heart_rate_max\":71.0,\"heart_rate_min\":56.0,\"start_time\":1585152780000,\"end_time\":1585152839000},{\"heart_rate\":58.0,\"heart_rate_max\":61.0,\"heart_rate_min\":54.0,\"start_time\":1585152840000,\"end_time\":1585152899000},{\"heart_rate\":61.0,\"heart_rate_max\":66.0,\"heart_rate_min\":57.0,\"start_time\":1585152900000,\"end_time\":1585152959000},{\"heart_rate\":56.0,\"heart_rate_max\":62.0,\"heart_rate_min\":53.0,\"start_time\":1585152960000,\"end_time\":1585153019000},{\"heart_rate\":56.0,\"heart_rate_max\":59.0,\"heart_rate_min\":54.0,\"start_time\":1585153020000,\"end_time\":1585153079000},{\"heart_rate\":63.0,\"heart_rate_max\":75.0,\"heart_rate_min\":56.0,\"start_time\":1585153080000,\"end_time\":1585153139000},{\"heart_rate\":76.0,\"heart_rate_max\":83.0,\"heart_rate_min\":68.0,\"start_time\":1585153140000,\"end_time\":1585153199000},{\"heart_rate\":80.0,\"heart_rate_max\":83.0,\"heart_rate_min\":79.0,\"start_time\":1585153200000,\"end_time\":1585153259000},{\"heart_rate\":80.0,\"heart_rate_max\":83.0,\"heart_rate_min\":78.0,\"start_time\":1585153260000,\"end_time\":1585153319000},{\"heart_rate\":81.0,\"heart_rate_max\":87.0,\"heart_rate_min\":78.0,\"start_time\":1585153320000,\"end_time\":1585153379000},{\"heart_rate\":85.0,\"heart_rate_max\":92.0,\"heart_rate_min\":78.0,\"start_time\":1585153380000,\"end_time\":1585153439000},{\"heart_rate\":84.0,\"heart_rate_max\":89.0,\"heart_rate_min\":79.0,\"start_time\":1585153440000,\"end_time\":1585153499000},{\"heart_rate\":85.0,\"heart_rate_max\":92.0,\"heart_rate_min\":80.0,\"start_time\":1585153500000,\"end_time\":1585153559000},{\"heart_rate\":87.0,\"heart_rate_max\":93.0,\"heart_rate_min\":82.0,\"start_time\":1585153560000,\"end_time\":1585153619000},{\"heart_rate\":99.0,\"heart_rate_max\":104.0,\"heart_rate_min\":96.0,\"start_time\":1585153620000,\"end_time\":1585153679000},{\"heart_rate\":104.0,\"heart_rate_max\":107.0,\"heart_rate_min\":100.0,\"start_time\":1585153680000,\"end_time\":1585153739000},{\"heart_rate\":105.0,\"heart_rate_max\":113.0,\"heart_rate_min\":98.0,\"start_time\":1585153740000,\"end_time\":1585153799000},{\"heart_rate\":101.0,\"heart_rate_max\":106.0,\"heart_rate_min\":95.0,\"start_time\":1585153800000,\"end_time\":1585153859000},{\"heart_rate\":107.0,\"heart_rate_max\":112.0,\"heart_rate_min\":104.0,\"start_time\":1585153860000,\"end_time\":1585153919000},{\"heart_rate\":115.0,\"heart_rate_max\":116.0,\"heart_rate_min\":114.0,\"start_time\":1585153920000,\"end_time\":1585153979000},{\"heart_rate\":114.0,\"heart_rate_max\":117.0,\"heart_rate_min\":112.0,\"start_time\":1585153980000,\"end_time\":1585154039000},{\"heart_rate\":65.0,\"heart_rate_max\":113.0,\"heart_rate_min\":57.0,\"start_time\":1585154040000,\"end_time\":1585154099000},{\"heart_rate\":62.0,\"heart_rate_max\":66.0,\"heart_rate_min\":57.0,\"start_time\":1585154100000,\"end_time\":1585154159000},{\"heart_rate\":60.0,\"heart_rate_max\":64.0,\"heart_rate_min\":55.0,\"start_time\":1585154160000,\"end_time\":1585154219000},{\"heart_rate\":64.0,\"heart_rate_max\":76.0,\"heart_rate_min\":58.0,\"start_time\":1585154220000,\"end_time\":1585154279000},{\"heart_rate\":67.0,\"heart_rate_max\":75.0,\"heart_rate_min\":61.0,\"start_time\":1585154280000,\"end_time\":1585154339000},{\"heart_rate\":66.0,\"heart_rate_max\":74.0,\"heart_rate_min\":61.0,\"start_time\":1585154340000,\"end_time\":1585154399000},{\"heart_rate\":68.0,\"heart_rate_max\":72.0,\"heart_rate_min\":62.0,\"start_time\":1585154400000,\"end_time\":1585154459000},{\"heart_rate\":70.0,\"heart_rate_max\":75.0,\"heart_rate_min\":67.0,\"start_time\":1585154460000,\"end_time\":1585154519000},{\"heart_rate\":66.0,\"heart_rate_max\":78.0,\"heart_rate_min\":60.0,\"start_time\":1585154520000,\"end_time\":1585154579000},{\"heart_rate\":77.0,\"heart_rate_max\":82.0,\"heart_rate_min\":71.0,\"start_time\":1585154580000,\"end_time\":1585154639000},{\"heart_rate\":73.0,\"heart_rate_max\":81.0,\"heart_rate_min\":67.0,\"start_time\":1585154640000,\"end_time\":1585154699000},{\"heart_rate\":72.0,\"heart_rate_max\":80.0,\"heart_rate_min\":63.0,\"start_time\":1585154700000,\"end_time\":1585154759000},{\"heart_rate\":62.0,\"heart_rate_max\":67.0,\"heart_rate_min\":58.0,\"start_time\":1585154760000,\"end_time\":1585154819000},{\"heart_rate\":62.0,\"heart_rate_max\":66.0,\"heart_rate_min\":59.0,\"start_time\":1585154820000,\"end_time\":1585154879000},{\"heart_rate\":65.0,\"heart_rate_max\":69.0,\"heart_rate_min\":64.0,\"start_time\":1585154880000,\"end_time\":1585154939000},{\"heart_rate\":65.0,\"heart_rate_max\":70.0,\"heart_rate_min\":61.0,\"start_time\":1585154940000,\"end_time\":1585154999000},{\"heart_rate\":66.0,\"heart_rate_max\":70.0,\"heart_rate_min\":63.0,\"start_time\":1585155000000,\"end_time\":1585155059000},{\"heart_rate\":72.0,\"heart_rate_max\":79.0,\"heart_rate_min\":63.0,\"start_time\":1585155060000,\"end_time\":1585155119000},{\"heart_rate\":64.0,\"heart_rate_max\":69.0,\"heart_rate_min\":62.0,\"start_time\":1585155120000,\"end_time\":1585155179000},{\"heart_rate\":72.0,\"heart_rate_max\":84.0,\"heart_rate_min\":64.0,\"start_time\":1585155180000,\"end_time\":1585155239000},{\"heart_rate\":73.0,\"heart_rate_max\":80.0,\"heart_rate_min\":67.0,\"start_time\":1585155240000,\"end_time\":1585155299000},{\"heart_rate\":81.0,\"heart_rate_max\":88.0,\"heart_rate_min\":71.0,\"start_time\":1585155300000,\"end_time\":1585155359000},{\"heart_rate\":84.0,\"heart_rate_max\":87.0,\"heart_rate_min\":82.0,\"start_time\":1585155360000,\"end_time\":1585155419000},{\"heart_rate\":70.0,\"heart_rate_max\":86.0,\"heart_rate_min\":57.0,\"start_time\":1585155420000,\"end_time\":1585155479000},{\"heart_rate\":63.0,\"heart_rate_max\":70.0,\"heart_rate_min\":60.0,\"start_time\":1585155480000,\"end_time\":1585155539000},{\"heart_rate\":60.0,\"heart_rate_max\":64.0,\"heart_rate_min\":59.0,\"start_time\":1585155540000,\"end_time\":1585155599000},{\"heart_rate\":111.0,\"heart_rate_max\":112.0,\"heart_rate_min\":111.0,\"start_time\":1585152000000,\"end_time\":1585152059000},{\"heart_rate\":114.0,\"heart_rate_max\":116.0,\"heart_rate_min\":112.0,\"start_time\":1585152120000,\"end_time\":1585152179000},{\"heart_rate\":114.0,\"heart_rate_max\":116.0,\"heart_rate_min\":112.0,\"start_time\":1585152180000,\"end_time\":1585152239000},{\"heart_rate\":108.0,\"heart_rate_max\":114.0,\"heart_rate_min\":103.0,\"start_time\":1585152240000,\"end_time\":1585152299000},{\"heart_rate\":97.0,\"heart_rate_max\":103.0,\"heart_rate_min\":92.0,\"start_time\":1585152300000,\"end_time\":1585152359000},{\"heart_rate\":83.0,\"heart_rate_max\":94.0,\"heart_rate_min\":77.0,\"start_time\":1585152360000,\"end_time\":1585152419000},{\"heart_rate\":83.0,\"heart_rate_max\":89.0,\"heart_rate_min\":76.0,\"start_time\":1585152420000,\"end_time\":1585152479000},{\"heart_rate\":83.0,\"heart_rate_max\":86.0,\"heart_rate_min\":79.0,\"start_time\":1585152480000,\"end_time\":1585152539000},{\"heart_rate\":83.0,\"heart_rate_max\":87.0,\"heart_rate_min\":79.0,\"start_time\":1585152540000,\"end_time\":1585152599000},{\"heart_rate\":66.0,\"heart_rate_max\":78.0,\"heart_rate_min\":60.0,\"start_time\":1585152600000,\"end_time\":1585152659000},{\"heart_rate\":68.0,\"heart_rate_max\":73.0,\"heart_rate_min\":66.0,\"start_time\":1585152660000,\"end_time\":1585152719000},{\"heart_rate\":73.0,\"heart_rate_max\":82.0,\"heart_rate_min\":65.0,\"start_time\":1585152720000,\"end_time\":1585152779000},{\"heart_rate\":62.0,\"heart_rate_max\":71.0,\"heart_rate_min\":56.0,\"start_time\":1585152780000,\"end_time\":1585152839000},{\"heart_rate\":58.0,\"heart_rate_max\":61.0,\"heart_rate_min\":54.0,\"start_time\":1585152840000,\"end_time\":1585152899000},{\"heart_rate\":61.0,\"heart_rate_max\":66.0,\"heart_rate_min\":57.0,\"start_time\":1585152900000,\"end_time\":1585152959000},{\"heart_rate\":56.0,\"heart_rate_max\":62.0,\"heart_rate_min\":53.0,\"start_time\":1585152960000,\"end_time\":1585153019000},{\"heart_rate\":56.0,\"heart_rate_max\":59.0,\"heart_rate_min\":54.0,\"start_time\":1585153020000,\"end_time\":1585153079000},{\"heart_rate\":63.0,\"heart_rate_max\":75.0,\"heart_rate_min\":56.0,\"start_time\":1585153080000,\"end_time\":1585153139000},{\"heart_rate\":76.0,\"heart_rate_max\":83.0,\"heart_rate_min\":68.0,\"start_time\":1585153140000,\"end_time\":1585153199000},{\"heart_rate\":80.0,\"heart_rate_max\":83.0,\"heart_rate_min\":79.0,\"start_time\":1585153200000,\"end_time\":1585153259000},{\"heart_rate\":80.0,\"heart_rate_max\":83.0,\"heart_rate_min\":78.0,\"start_time\":1585153260000,\"end_time\":1585153319000},{\"heart_rate\":81.0,\"heart_rate_max\":87.0,\"heart_rate_min\":78.0,\"start_time\":1585153320000,\"end_time\":1585153379000},{\"heart_rate\":85.0,\"heart_rate_max\":92.0,\"heart_rate_min\":78.0,\"start_time\":1585153380000,\"end_time\":1585153439000},{\"heart_rate\":84.0,\"heart_rate_max\":89.0,\"heart_rate_min\":79.0,\"start_time\":1585153440000,\"end_time\":1585153499000},{\"heart_rate\":85.0,\"heart_rate_max\":92.0,\"heart_rate_min\":80.0,\"start_time\":1585153500000,\"end_time\":1585153559000},{\"heart_rate\":87.0,\"heart_rate_max\":93.0,\"heart_rate_min\":82.0,\"start_time\":1585153560000,\"end_time\":1585153619000},{\"heart_rate\":99.0,\"heart_rate_max\":104.0,\"heart_rate_min\":96.0,\"start_time\":1585153620000,\"end_time\":1585153679000},{\"heart_rate\":104.0,\"heart_rate_max\":107.0,\"heart_rate_min\":100.0,\"start_time\":1585153680000,\"end_time\":1585153739000},{\"heart_rate\":105.0,\"heart_rate_max\":113.0,\"heart_rate_min\":98.0,\"start_time\":1585153740000,\"end_time\":1585153799000},{\"heart_rate\":101.0,\"heart_rate_max\":106.0,\"heart_rate_min\":95.0,\"start_time\":1585153800000,\"end_time\":1585153859000},{\"heart_rate\":107.0,\"heart_rate_max\":112.0,\"heart_rate_min\":104.0,\"start_time\":1585153860000,\"end_time\":1585153919000},{\"heart_rate\":115.0,\"heart_rate_max\":116.0,\"heart_rate_min\":114.0,\"start_time\":1585153920000,\"end_time\":1585153979000},{\"heart_rate\":114.0,\"heart_rate_max\":117.0,\"heart_rate_min\":112.0,\"start_time\":1585153980000,\"end_time\":1585154039000},{\"heart_rate\":65.0,\"heart_rate_max\":113.0,\"heart_rate_min\":57.0,\"start_time\":1585154040000,\"end_time\":1585154099000},{\"heart_rate\":62.0,\"heart_rate_max\":66.0,\"heart_rate_min\":57.0,\"start_time\":1585154100000,\"end_time\":1585154159000},{\"heart_rate\":60.0,\"heart_rate_max\":64.0,\"heart_rate_min\":55.0,\"start_time\":1585154160000,\"end_time\":1585154219000},{\"heart_rate\":64.0,\"heart_rate_max\":76.0,\"heart_rate_min\":58.0,\"start_time\":1585154220000,\"end_time\":1585154279000},{\"heart_rate\":67.0,\"heart_rate_max\":75.0,\"heart_rate_min\":61.0,\"start_time\":1585154280000,\"end_time\":1585154339000},{\"heart_rate\":66.0,\"heart_rate_max\":74.0,\"heart_rate_min\":61.0,\"start_time\":1585154340000,\"end_time\":1585154399000},{\"heart_rate\":68.0,\"heart_rate_max\":72.0,\"heart_rate_min\":62.0,\"start_time\":1585154400000,\"end_time\":1585154459000},{\"heart_rate\":70.0,\"heart_rate_max\":75.0,\"heart_rate_min\":67.0,\"start_time\":1585154460000,\"end_time\":1585154519000},{\"heart_rate\":66.0,\"heart_rate_max\":78.0,\"heart_rate_min\":60.0,\"start_time\":1585154520000,\"end_time\":1585154579000},{\"heart_rate\":77.0,\"heart_rate_max\":82.0,\"heart_rate_min\":71.0,\"start_time\":1585154580000,\"end_time\":1585154639000},{\"heart_rate\":73.0,\"heart_rate_max\":81.0,\"heart_rate_min\":67.0,\"start_time\":1585154640000,\"end_time\":1585154699000},{\"heart_rate\":72.0,\"heart_rate_max\":80.0,\"heart_rate_min\":63.0,\"start_time\":1585154700000,\"end_time\":1585154759000},{\"heart_rate\":62.0,\"heart_rate_max\":67.0,\"heart_rate_min\":58.0,\"start_time\":1585154760000,\"end_time\":1585154819000},{\"heart_rate\":62.0,\"heart_rate_max\":66.0,\"heart_rate_min\":59.0,\"start_time\":1585154820000,\"end_time\":1585154879000},{\"heart_rate\":65.0,\"heart_rate_max\":69.0,\"heart_rate_min\":64.0,\"start_time\":1585154880000,\"end_time\":1585154939000},{\"heart_rate\":65.0,\"heart_rate_max\":70.0,\"heart_rate_min\":61.0,\"start_time\":1585154940000,\"end_time\":1585154999000},{\"heart_rate\":66.0,\"heart_rate_max\":70.0,\"heart_rate_min\":63.0,\"start_time\":1585155000000,\"end_time\":1585155059000},{\"heart_rate\":72.0,\"heart_rate_max\":79.0,\"heart_rate_min\":63.0,\"start_time\":1585155060000,\"end_time\":1585155119000},{\"heart_rate\":64.0,\"heart_rate_max\":69.0,\"heart_rate_min\":62.0,\"start_time\":1585155120000,\"end_time\":1585155179000},{\"heart_rate\":72.0,\"heart_rate_max\":84.0,\"heart_rate_min\":64.0,\"start_time\":1585155180000,\"end_time\":1585155239000},{\"heart_rate\":73.0,\"heart_rate_max\":80.0,\"heart_rate_min\":67.0,\"start_time\":1585155240000,\"end_time\":1585155299000},{\"heart_rate\":81.0,\"heart_rate_max\":88.0,\"heart_rate_min\":71.0,\"start_time\":1585155300000,\"end_time\":1585155359000},{\"heart_rate\":84.0,\"heart_rate_max\":87.0,\"heart_rate_min\":82.0,\"start_time\":1585155360000,\"end_time\":1585155419000},{\"heart_rate\":70.0,\"heart_rate_max\":86.0,\"heart_rate_min\":57.0,\"start_time\":1585155420000,\"end_time\":1585155479000},{\"heart_rate\":63.0,\"heart_rate_max\":70.0,\"heart_rate_min\":60.0,\"start_time\":1585155480000,\"end_time\":1585155539000},{\"heart_rate\":60.0,\"heart_rate_max\":64.0,\"heart_rate_min\":59.0,\"start_time\":1585155540000,\"end_time\":1585155599000}][{\"heart_rate\":111.0,\"heart_rate_max\":112.0,\"heart_rate_min\":111.0,\"start_time\":1585152000000,\"end_time\":1585152059000},{\"heart_rate\":114.0,\"heart_rate_max\":116.0,\"heart_rate_min\":112.0,\"start_time\":1585152120000,\"end_time\":1585152179000},{\"heart_rate\":114.0,\"heart_rate_max\":116.0,\"heart_rate_min\":112.0,\"start_time\":1585152180000,\"end_time\":1585152239000},{\"heart_rate\":108.0,\"heart_rate_max\":114.0,\"heart_rate_min\":103.0,\"start_time\":1585152240000,\"end_time\":1585152299000},{\"heart_rate\":97.0,\"heart_rate_max\":103.0,\"heart_rate_min\":92.0,\"start_time\":1585152300000,\"end_time\":1585152359000},{\"heart_rate\":83.0,\"heart_rate_max\":94.0,\"heart_rate_min\":77.0,\"start_time\":1585152360000,\"end_time\":1585152419000},{\"heart_rate\":83.0,\"heart_rate_max\":89.0,\"heart_rate_min\":76.0,\"start_time\":1585152420000,\"end_time\":1585152479000},{\"heart_rate\":83.0,\"heart_rate_max\":86.0,\"heart_rate_min\":79.0,\"start_time\":1585152480000,\"end_time\":1585152539000},{\"heart_rate\":83.0,\"heart_rate_max\":87.0,\"heart_rate_min\":79.0,\"start_time\":1585152540000,\"end_time\":1585152599000},{\"heart_rate\":66.0,\"heart_rate_max\":78.0,\"heart_rate_min\":60.0,\"start_time\":1585152600000,\"end_time\":1585152659000},{\"heart_rate\":68.0,\"heart_rate_max\":73.0,\"heart_rate_min\":66.0,\"start_time\":1585152660000,\"end_time\":1585152719000},{\"heart_rate\":73.0,\"heart_rate_max\":82.0,\"heart_rate_min\":65.0,\"start_time\":1585152720000,\"end_time\":1585152779000},{\"heart_rate\":62.0,\"heart_rate_max\":71.0,\"heart_rate_min\":56.0,\"start_time\":1585152780000,\"end_time\":1585152839000},{\"heart_rate\":58.0,\"heart_rate_max\":61.0,\"heart_rate_min\":54.0,\"start_time\":1585152840000,\"end_time\":1585152899000},{\"heart_rate\":61.0,\"heart_rate_max\":66.0,\"heart_rate_min\":57.0,\"start_time\":1585152900000,\"end_time\":1585152959000},{\"heart_rate\":56.0,\"heart_rate_max\":62.0,\"heart_rate_min\":53.0,\"start_time\":1585152960000,\"end_time\":1585153019000},{\"heart_rate\":56.0,\"heart_rate_max\":59.0,\"heart_rate_min\":54.0,\"start_time\":1585153020000,\"end_time\":1585153079000},{\"heart_rate\":63.0,\"heart_rate_max\":75.0,\"heart_rate_min\":56.0,\"start_time\":1585153080000,\"end_time\":1585153139000},{\"heart_rate\":76.0,\"heart_rate_max\":83.0,\"heart_rate_min\":68.0,\"start_time\":1585153140000,\"end_time\":1585153199000},{\"heart_rate\":80.0,\"heart_rate_max\":83.0,\"heart_rate_min\":79.0,\"start_time\":1585153200000,\"end_time\":1585153259000},{\"heart_rate\":80.0,\"heart_rate_max\":83.0,\"heart_rate_min\":78.0,\"start_time\":1585153260000,\"end_time\":1585153319000},{\"heart_rate\":81.0,\"heart_rate_max\":87.0,\"heart_rate_min\":78.0,\"start_time\":1585153320000,\"end_time\":1585153379000},{\"heart_rate\":85.0,\"heart_rate_max\":92.0,\"heart_rate_min\":78.0,\"start_time\":1585153380000,\"end_time\":1585153439000},{\"heart_rate\":84.0,\"heart_rate_max\":89.0,\"heart_rate_min\":79.0,\"start_time\":1585153440000,\"end_time\":1585153499000},{\"heart_rate\":85.0,\"heart_rate_max\":92.0,\"heart_rate_min\":80.0,\"start_time\":1585153500000,\"end_time\":1585153559000},{\"heart_rate\":87.0,\"heart_rate_max\":93.0,\"heart_rate_min\":82.0,\"start_time\":1585153560000,\"end_time\":1585153619000},{\"heart_rate\":99.0,\"heart_rate_max\":104.0,\"heart_rate_min\":96.0,\"start_time\":1585153620000,\"end_time\":1585153679000},{\"heart_rate\":104.0,\"heart_rate_max\":107.0,\"heart_rate_min\":100.0,\"start_time\":1585153680000,\"end_time\":1585153739000},{\"heart_rate\":105.0,\"heart_rate_max\":113.0,\"heart_rate_min\":98.0,\"start_time\":1585153740000,\"end_time\":1585153799000},{\"heart_rate\":101.0,\"heart_rate_max\":106.0,\"heart_rate_min\":95.0,\"start_time\":1585153800000,\"end_time\":1585153859000},{\"heart_rate\":107.0,\"heart_rate_max\":112.0,\"heart_rate_min\":104.0,\"start_time\":1585153860000,\"end_time\":1585153919000},{\"heart_rate\":115.0,\"heart_rate_max\":116.0,\"heart_rate_min\":114.0,\"start_time\":1585153920000,\"end_time\":1585153979000},{\"heart_rate\":114.0,\"heart_rate_max\":117.0,\"heart_rate_min\":112.0,\"start_time\":1585153980000,\"end_time\":1585154039000},{\"heart_rate\":65.0,\"heart_rate_max\":113.0,\"heart_rate_min\":57.0,\"start_time\":1585154040000,\"end_time\":1585154099000},{\"heart_rate\":62.0,\"heart_rate_max\":66.0,\"heart_rate_min\":57.0,\"start_time\":1585154100000,\"end_time\":1585154159000},{\"heart_rate\":60.0,\"heart_rate_max\":64.0,\"heart_rate_min\":55.0,\"start_time\":1585154160000,\"end_time\":1585154219000},{\"heart_rate\":64.0,\"heart_rate_max\":76.0,\"heart_rate_min\":58.0,\"start_time\":1585154220000,\"end_time\":1585154279000},{\"heart_rate\":67.0,\"heart_rate_max\":75.0,\"heart_rate_min\":61.0,\"start_time\":1585154280000,\"end_time\":1585154339000},{\"heart_rate\":66.0,\"heart_rate_max\":74.0,\"heart_rate_min\":61.0,\"start_time\":1585154340000,\"end_time\":1585154399000},{\"heart_rate\":68.0,\"heart_rate_max\":72.0,\"heart_rate_min\":62.0,\"start_time\":1585154400000,\"end_time\":1585154459000},{\"heart_rate\":70.0,\"heart_rate_max\":75.0,\"heart_rate_min\":67.0,\"start_time\":1585154460000,\"end_time\":1585154519000},{\"heart_rate\":66.0,\"heart_rate_max\":78.0,\"heart_rate_min\":60.0,\"start_time\":1585154520000,\"end_time\":1585154579000},{\"heart_rate\":77.0,\"heart_rate_max\":82.0,\"heart_rate_min\":71.0,\"start_time\":1585154580000,\"end_time\":1585154639000},{\"heart_rate\":73.0,\"heart_rate_max\":81.0,\"heart_rate_min\":67.0,\"start_time\":1585154640000,\"end_time\":1585154699000},{\"heart_rate\":72.0,\"heart_rate_max\":80.0,\"heart_rate_min\":63.0,\"start_time\":1585154700000,\"end_time\":1585154759000},{\"heart_rate\":62.0,\"heart_rate_max\":67.0,\"heart_rate_min\":58.0,\"start_time\":1585154760000,\"end_time\":1585154819000},{\"heart_rate\":62.0,\"heart_rate_max\":66.0,\"heart_rate_min\":59.0,\"start_time\":1585154820000,\"end_time\":1585154879000},{\"heart_rate\":65.0,\"heart_rate_max\":69.0,\"heart_rate_min\":64.0,\"start_time\":1585154880000,\"end_time\":1585154939000},{\"heart_rate\":65.0,\"heart_rate_max\":70.0,\"heart_rate_min\":61.0,\"start_time\":1585154940000,\"end_time\":1585154999000},{\"heart_rate\":66.0,\"heart_rate_max\":70.0,\"heart_rate_min\":63.0,\"start_time\":1585155000000,\"end_time\":1585155059000},{\"heart_rate\":72.0,\"heart_rate_max\":79.0,\"heart_rate_min\":63.0,\"start_time\":1585155060000,\"end_time\":1585155119000},{\"heart_rate\":64.0,\"heart_rate_max\":69.0,\"heart_rate_min\":62.0,\"start_time\":1585155120000,\"end_time\":1585155179000},{\"heart_rate\":72.0,\"heart_rate_max\":84.0,\"heart_rate_min\":64.0,\"start_time\":1585155180000,\"end_time\":1585155239000},{\"heart_rate\":73.0,\"heart_rate_max\":80.0,\"heart_rate_min\":67.0,\"start_time\":1585155240000,\"end_time\":1585155299000},{\"heart_rate\":81.0,\"heart_rate_max\":88.0,\"heart_rate_min\":71.0,\"start_time\":1585155300000,\"end_time\":1585155359000},{\"heart_rate\":84.0,\"heart_rate_max\":87.0,\"heart_rate_min\":82.0,\"start_time\":1585155360000,\"end_time\":1585155419000},{\"heart_rate\":70.0,\"heart_rate_max\":86.0,\"heart_rate_min\":57.0,\"start_time\":1585155420000,\"end_time\":1585155479000},{\"heart_rate\":63.0,\"heart_rate_max\":70.0,\"heart_rate_min\":60.0,\"start_time\":1585155480000,\"end_time\":1585155539000},{\"heart_rate\":60.0,\"heart_rate_max\":64.0,\"heart_rate_min\":59.0,\"start_time\":1585155540000,\"end_time\":1585155599000}][{\"heart_rate\":101.0,\"heart_rate_max\":103.0,\"heart_rate_min\":100.0,\"start_time\":1564725600000,\"end_time\":1564725659000},{\"heart_rate\":109.0,\"heart_rate_max\":115.0,\"heart_rate_min\":102.0,\"start_time\":1564725660000,\"end_time\":1564725719000},{\"heart_rate\":121.0,\"heart_rate_max\":127.0,\"heart_rate_min\":111.0,\"start_time\":1564725720000,\"end_time\":1564725779000},{\"heart_rate\":122.0,\"heart_rate_max\":125.0,\"heart_rate_min\":119.0,\"start_time\":1564725780000,\"end_time\":1564725839000},{\"heart_rate\":89.0,\"heart_rate_max\":127.0,\"heart_rate_min\":61.0,\"start_time\":1564725840000,\"end_time\":1564725899000},{\"heart_rate\":65.0,\"heart_rate_max\":72.0,\"heart_rate_min\":55.0,\"start_time\":1564725900000,\"end_time\":1564725959000},{\"heart_rate\":60.0,\"heart_rate_max\":64.0,\"heart_rate_min\":58.0,\"start_time\":1564725960000,\"end_time\":1564726019000},{\"heart_rate\":63.0,\"heart_rate_max\":70.0,\"heart_rate_min\":57.0,\"start_time\":1564726020000,\"end_time\":1564726079000},{\"heart_rate\":61.0,\"heart_rate_max\":65.0,\"heart_rate_min\":58.0,\"start_time\":1564726080000,\"end_time\":1564726139000},{\"heart_rate\":67.0,\"heart_rate_max\":85.0,\"heart_rate_min\":59.0,\"start_time\":1564726140000,\"end_time\":1564726199000},{\"heart_rate\":99.0,\"heart_rate_max\":116.0,\"heart_rate_min\":84.0,\"start_time\":1564726200000,\"end_time\":1564726259000},{\"heart_rate\":112.0,\"heart_rate_max\":117.0,\"heart_rate_min\":106.0,\"start_time\":1564726260000,\"end_time\":1564726319000},{\"heart_rate\":82.0,\"heart_rate_max\":119.0,\"heart_rate_min\":57.0,\"start_time\":1564726320000,\"end_time\":1564726379000},{\"heart_rate\":65.0,\"heart_rate_max\":68.0,\"heart_rate_min\":64.0,\"start_time\":1564726380000,\"end_time\":1564726439000},{\"heart_rate\":63.0,\"heart_rate_max\":70.0,\"heart_rate_min\":60.0,\"start_time\":1564726440000,\"end_time\":1564726499000},{\"heart_rate\":61.0,\"heart_rate_max\":64.0,\"heart_rate_min\":58.0,\"start_time\":1564726500000,\"end_time\":1564726559000},{\"heart_rate\":74.0,\"heart_rate_max\":95.0,\"heart_rate_min\":63.0,\"start_time\":1564726560000,\"end_time\":1564726619000},{\"heart_rate\":89.0,\"heart_rate_max\":96.0,\"heart_rate_min\":71.0,\"start_time\":1564726620000,\"end_time\":1564726679000},{\"heart_rate\":64.0,\"heart_rate_max\":74.0,\"heart_rate_min\":58.0,\"start_time\":1564726680000,\"end_time\":1564726739000},{\"heart_rate\":77.0,\"heart_rate_max\":88.0,\"heart_rate_min\":62.0,\"start_time\":1564726740000,\"end_time\":1564726799000},{\"heart_rate\":89.0,\"heart_rate_max\":96.0,\"heart_rate_min\":81.0,\"start_time\":1564726800000,\"end_time\":1564726859000},{\"heart_rate\":89.0,\"heart_rate_max\":101.0,\"heart_rate_min\":71.0,\"start_time\":1564726860000,\"end_time\":1564726919000},{\"heart_rate\":68.0,\"heart_rate_max\":97.0,\"heart_rate_min\":58.0,\"start_time\":1564726920000,\"end_time\":1564726979000},{\"heart_rate\":67.0,\"heart_rate_max\":72.0,\"heart_rate_min\":64.0,\"start_time\":1564726980000,\"end_time\":1564727039000},{\"heart_rate\":79.0,\"heart_rate_max\":90.0,\"heart_rate_min\":73.0,\"start_time\":1564727040000,\"end_time\":1564727099000},{\"heart_rate\":97.0,\"heart_rate_max\":105.0,\"heart_rate_min\":92.0,\"start_time\":1564727100000,\"end_time\":1564727159000},{\"heart_rate\":102.0,\"heart_rate_max\":107.0,\"heart_rate_min\":101.0,\"start_time\":1564727160000,\"end_time\":1564727219000},{\"heart_rate\":101.0,\"heart_rate_max\":106.0,\"heart_rate_min\":98.0,\"start_time\":1564727220000,\"end_time\":1564727279000},{\"heart_rate\":112.0,\"heart_rate_max\":117.0,\"heart_rate_min\":104.0,\"start_time\":1564727280000,\"end_time\":1564727339000},{\"heart_rate\":119.0,\"heart_rate_max\":120.0,\"heart_rate_min\":117.0,\"start_time\":1564727340000,\"end_time\":1564727399000},{\"heart_rate\":77.0,\"heart_rate_max\":106.0,\"heart_rate_min\":68.0,\"start_time\":1564727520000,\"end_time\":1564727579000},{\"heart_rate\":61.0,\"heart_rate_max\":79.0,\"heart_rate_min\":56.0,\"start_time\":1564727580000,\"end_time\":1564727639000},{\"heart_rate\":60.0,\"heart_rate_max\":63.0,\"heart_rate_min\":56.0,\"start_time\":1564727640000,\"end_time\":1564727699000},{\"heart_rate\":59.0,\"heart_rate_max\":63.0,\"heart_rate_min\":56.0,\"start_time\":1564727700000,\"end_time\":1564727759000},{\"heart_rate\":60.0,\"heart_rate_max\":64.0,\"heart_rate_min\":59.0,\"start_time\":1564727760000,\"end_time\":1564727819000},{\"heart_rate\":62.0,\"heart_rate_max\":66.0,\"heart_rate_min\":61.0,\"start_time\":1564727820000,\"end_time\":1564727879000},{\"heart_rate\":68.0,\"heart_rate_max\":82.0,\"heart_rate_min\":58.0,\"start_time\":1564727880000,\"end_time\":1564727939000},{\"heart_rate\":59.0,\"heart_rate_max\":62.0,\"heart_rate_min\":57.0,\"start_time\":1564727940000,\"end_time\":1564727999000},{\"heart_rate\":66.0,\"heart_rate_max\":81.0,\"heart_rate_min\":60.0,\"start_time\":1564728000000,\"end_time\":1564728059000},{\"heart_rate\":65.0,\"heart_rate_max\":77.0,\"heart_rate_min\":59.0,\"start_time\":1564728060000,\"end_time\":1564728119000},{\"heart_rate\":78.0,\"heart_rate_max\":90.0,\"heart_rate_min\":64.0,\"start_time\":1564728120000,\"end_time\":1564728179000},{\"heart_rate\":84.0,\"heart_rate_max\":101.0,\"heart_rate_min\":60.0,\"start_time\":1564728180000,\"end_time\":1564728239000},{\"heart_rate\":59.0,\"heart_rate_max\":62.0,\"heart_rate_min\":57.0,\"start_time\":1564728240000,\"end_time\":1564728299000},{\"heart_rate\":59.0,\"heart_rate_max\":62.0,\"heart_rate_min\":58.0,\"start_time\":1564728300000,\"end_time\":1564728359000},{\"heart_rate\":59.0,\"heart_rate_max\":66.0,\"heart_rate_min\":56.0,\"start_time\":1564728360000,\"end_time\":1564728419000},{\"heart_rate\":58.0,\"heart_rate_max\":61.0,\"heart_rate_min\":57.0,\"start_time\":1564728420000,\"end_time\":1564728479000},{\"heart_rate\":58.0,\"heart_rate_max\":62.0,\"heart_rate_min\":56.0,\"start_time\":1564728480000,\"end_time\":1564728539000},{\"heart_rate\":61.0,\"heart_rate_max\":63.0,\"heart_rate_min\":61.0,\"start_time\":1564728540000,\"end_time\":1564728599000},{\"heart_rate\":65.0,\"heart_rate_max\":73.0,\"heart_rate_min\":62.0,\"start_time\":1564728600000,\"end_time\":1564728659000},{\"heart_rate\":64.0,\"heart_rate_max\":71.0,\"heart_rate_min\":56.0,\"start_time\":1564728660000,\"end_time\":1564728719000},{\"heart_rate\":63.0,\"heart_rate_max\":72.0,\"heart_rate_min\":60.0,\"start_time\":1564728720000,\"end_time\":1564728779000},{\"heart_rate\":61.0,\"heart_rate_max\":67.0,\"heart_rate_min\":56.0,\"start_time\":1564728780000,\"end_time\":1564728839000},{\"heart_rate\":59.0,\"heart_rate_max\":67.0,\"heart_rate_min\":56.0,\"start_time\":1564728840000,\"end_time\":1564728899000},{\"heart_rate\":75.0,\"heart_rate_max\":88.0,\"heart_rate_min\":61.0,\"start_time\":1564728900000,\"end_time\":1564728959000},{\"heart_rate\":76.0,\"heart_rate_max\":90.0,\"heart_rate_min\":69.0,\"start_time\":1564728960000,\"end_time\":1564729019000},{\"heart_rate\":80.0,\"heart_rate_max\":91.0,\"heart_rate_min\":71.0,\"start_time\":1564729020000,\"end_time\":1564729079000},{\"heart_rate\":86.0,\"heart_rate_max\":93.0,\"heart_rate_min\":80.0,\"start_time\":1564729080000,\"end_time\":1564729139000},{\"heart_rate\":68.0,\"heart_rate_max\":84.0,\"heart_rate_min\":60.0,\"start_time\":1564729140000,\"end_time\":1564729199000}]'\n",
        "#json.loads(jsonDeDos)\n",
        "#asd = pd.read_json(jsonDeDos)\n",
        "'''no jalo porque es demasiado cumbersome validar jsons manualmente'''"
      ],
      "execution_count": null,
      "outputs": []
    },
    {
      "cell_type": "code",
      "metadata": {
        "id": "sBWUpDA9H6j4",
        "colab_type": "code",
        "colab": {
          "base_uri": "https://localhost:8080/",
          "height": 204
        },
        "outputId": "c33359f9-82bd-4a44-efab-51fa3900ab6b"
      },
      "source": [
        "'''intento de concatenar dataframes'''\n",
        "otroDia = '[{\"heart_rate\":58.0,\"heart_rate_max\":61.0,\"heart_rate_min\":57.0,\"start_time\":1578502800000,\"end_time\":1578502859000},{\"heart_rate\":59.0,\"heart_rate_max\":62.0,\"heart_rate_min\":58.0,\"start_time\":1578502860000,\"end_time\":1578502919000},{\"heart_rate\":59.0,\"heart_rate_max\":64.0,\"heart_rate_min\":58.0,\"start_time\":1578502920000,\"end_time\":1578502979000},{\"heart_rate\":63.0,\"heart_rate_max\":73.0,\"heart_rate_min\":59.0,\"start_time\":1578502980000,\"end_time\":1578503039000},{\"heart_rate\":52.0,\"heart_rate_max\":55.0,\"heart_rate_min\":51.0,\"start_time\":1578503040000,\"end_time\":1578503099000},{\"heart_rate\":53.0,\"heart_rate_max\":55.0,\"heart_rate_min\":51.0,\"start_time\":1578503100000,\"end_time\":1578503159000},{\"heart_rate\":54.0,\"heart_rate_max\":56.0,\"heart_rate_min\":52.0,\"start_time\":1578503160000,\"end_time\":1578503219000},{\"heart_rate\":54.0,\"heart_rate_max\":56.0,\"heart_rate_min\":53.0,\"start_time\":1578503220000,\"end_time\":1578503279000},{\"heart_rate\":54.0,\"heart_rate_max\":57.0,\"heart_rate_min\":53.0,\"start_time\":1578503280000,\"end_time\":1578503339000},{\"heart_rate\":56.0,\"heart_rate_max\":58.0,\"heart_rate_min\":54.0,\"start_time\":1578503340000,\"end_time\":1578503399000},{\"heart_rate\":58.0,\"heart_rate_max\":61.0,\"heart_rate_min\":55.0,\"start_time\":1578503400000,\"end_time\":1578503459000},{\"heart_rate\":58.0,\"heart_rate_max\":61.0,\"heart_rate_min\":57.0,\"start_time\":1578503460000,\"end_time\":1578503519000},{\"heart_rate\":60.0,\"heart_rate_max\":64.0,\"heart_rate_min\":58.0,\"start_time\":1578503520000,\"end_time\":1578503579000},{\"heart_rate\":60.0,\"heart_rate_max\":63.0,\"heart_rate_min\":57.0,\"start_time\":1578503580000,\"end_time\":1578503639000},{\"heart_rate\":53.0,\"heart_rate_max\":58.0,\"heart_rate_min\":50.0,\"start_time\":1578503640000,\"end_time\":1578503699000},{\"heart_rate\":55.0,\"heart_rate_max\":58.0,\"heart_rate_min\":52.0,\"start_time\":1578503700000,\"end_time\":1578503759000},{\"heart_rate\":57.0,\"heart_rate_max\":61.0,\"heart_rate_min\":54.0,\"start_time\":1578503760000,\"end_time\":1578503819000},{\"heart_rate\":57.0,\"heart_rate_max\":63.0,\"heart_rate_min\":55.0,\"start_time\":1578503820000,\"end_time\":1578503879000},{\"heart_rate\":55.0,\"heart_rate_max\":66.0,\"heart_rate_min\":50.0,\"start_time\":1578503880000,\"end_time\":1578503939000},{\"heart_rate\":53.0,\"heart_rate_max\":56.0,\"heart_rate_min\":50.0,\"start_time\":1578503940000,\"end_time\":1578503999000},{\"heart_rate\":54.0,\"heart_rate_max\":59.0,\"heart_rate_min\":49.0,\"start_time\":1578504000000,\"end_time\":1578504059000},{\"heart_rate\":56.0,\"heart_rate_max\":58.0,\"heart_rate_min\":54.0,\"start_time\":1578504060000,\"end_time\":1578504119000},{\"heart_rate\":55.0,\"heart_rate_max\":58.0,\"heart_rate_min\":53.0,\"start_time\":1578504120000,\"end_time\":1578504179000},{\"heart_rate\":56.0,\"heart_rate_max\":59.0,\"heart_rate_min\":54.0,\"start_time\":1578504180000,\"end_time\":1578504239000},{\"heart_rate\":57.0,\"heart_rate_max\":60.0,\"heart_rate_min\":55.0,\"start_time\":1578504240000,\"end_time\":1578504299000},{\"heart_rate\":58.0,\"heart_rate_max\":61.0,\"heart_rate_min\":56.0,\"start_time\":1578504300000,\"end_time\":1578504359000},{\"heart_rate\":60.0,\"heart_rate_max\":77.0,\"heart_rate_min\":50.0,\"start_time\":1578504360000,\"end_time\":1578504419000},{\"heart_rate\":54.0,\"heart_rate_max\":57.0,\"heart_rate_min\":50.0,\"start_time\":1578504420000,\"end_time\":1578504479000},{\"heart_rate\":56.0,\"heart_rate_max\":61.0,\"heart_rate_min\":53.0,\"start_time\":1578504480000,\"end_time\":1578504539000},{\"heart_rate\":55.0,\"heart_rate_max\":59.0,\"heart_rate_min\":52.0,\"start_time\":1578504540000,\"end_time\":1578504599000},{\"heart_rate\":55.0,\"heart_rate_max\":57.0,\"heart_rate_min\":54.0,\"start_time\":1578504600000,\"end_time\":1578504659000},{\"heart_rate\":57.0,\"heart_rate_max\":63.0,\"heart_rate_min\":54.0,\"start_time\":1578504660000,\"end_time\":1578504719000},{\"heart_rate\":57.0,\"heart_rate_max\":60.0,\"heart_rate_min\":55.0,\"start_time\":1578504720000,\"end_time\":1578504779000},{\"heart_rate\":56.0,\"heart_rate_max\":59.0,\"heart_rate_min\":54.0,\"start_time\":1578504780000,\"end_time\":1578504839000},{\"heart_rate\":57.0,\"heart_rate_max\":62.0,\"heart_rate_min\":51.0,\"start_time\":1578504840000,\"end_time\":1578504899000},{\"heart_rate\":50.0,\"heart_rate_max\":55.0,\"heart_rate_min\":47.0,\"start_time\":1578504900000,\"end_time\":1578504959000},{\"heart_rate\":52.0,\"heart_rate_max\":56.0,\"heart_rate_min\":50.0,\"start_time\":1578504960000,\"end_time\":1578505019000},{\"heart_rate\":56.0,\"heart_rate_max\":61.0,\"heart_rate_min\":51.0,\"start_time\":1578505020000,\"end_time\":1578505079000},{\"heart_rate\":58.0,\"heart_rate_max\":62.0,\"heart_rate_min\":54.0,\"start_time\":1578505080000,\"end_time\":1578505139000},{\"heart_rate\":55.0,\"heart_rate_max\":60.0,\"heart_rate_min\":52.0,\"start_time\":1578505140000,\"end_time\":1578505199000},{\"heart_rate\":60.0,\"heart_rate_max\":64.0,\"heart_rate_min\":57.0,\"start_time\":1578505200000,\"end_time\":1578505259000},{\"heart_rate\":58.0,\"heart_rate_max\":62.0,\"heart_rate_min\":56.0,\"start_time\":1578505260000,\"end_time\":1578505319000},{\"heart_rate\":58.0,\"heart_rate_max\":60.0,\"heart_rate_min\":57.0,\"start_time\":1578505320000,\"end_time\":1578505379000},{\"heart_rate\":61.0,\"heart_rate_max\":68.0,\"heart_rate_min\":59.0,\"start_time\":1578505380000,\"end_time\":1578505439000},{\"heart_rate\":59.0,\"heart_rate_max\":64.0,\"heart_rate_min\":53.0,\"start_time\":1578505440000,\"end_time\":1578505499000},{\"heart_rate\":62.0,\"heart_rate_max\":78.0,\"heart_rate_min\":52.0,\"start_time\":1578505500000,\"end_time\":1578505559000},{\"heart_rate\":71.0,\"heart_rate_max\":78.0,\"heart_rate_min\":66.0,\"start_time\":1578505560000,\"end_time\":1578505619000},{\"heart_rate\":66.0,\"heart_rate_max\":74.0,\"heart_rate_min\":61.0,\"start_time\":1578505620000,\"end_time\":1578505679000},{\"heart_rate\":61.0,\"heart_rate_max\":63.0,\"heart_rate_min\":58.0,\"start_time\":1578505680000,\"end_time\":1578505739000},{\"heart_rate\":60.0,\"heart_rate_max\":62.0,\"heart_rate_min\":58.0,\"start_time\":1578505740000,\"end_time\":1578505799000},{\"heart_rate\":62.0,\"heart_rate_max\":66.0,\"heart_rate_min\":61.0,\"start_time\":1578505800000,\"end_time\":1578505859000},{\"heart_rate\":58.0,\"heart_rate_max\":62.0,\"heart_rate_min\":55.0,\"start_time\":1578505860000,\"end_time\":1578505919000},{\"heart_rate\":57.0,\"heart_rate_max\":62.0,\"heart_rate_min\":55.0,\"start_time\":1578505920000,\"end_time\":1578505979000},{\"heart_rate\":61.0,\"heart_rate_max\":69.0,\"heart_rate_min\":58.0,\"start_time\":1578505980000,\"end_time\":1578506039000},{\"heart_rate\":62.0,\"heart_rate_max\":70.0,\"heart_rate_min\":58.0,\"start_time\":1578506040000,\"end_time\":1578506099000},{\"heart_rate\":63.0,\"heart_rate_max\":68.0,\"heart_rate_min\":58.0,\"start_time\":1578506100000,\"end_time\":1578506159000},{\"heart_rate\":67.0,\"heart_rate_max\":85.0,\"heart_rate_min\":51.0,\"start_time\":1578506160000,\"end_time\":1578506219000},{\"heart_rate\":54.0,\"heart_rate_max\":59.0,\"heart_rate_min\":50.0,\"start_time\":1578506220000,\"end_time\":1578506279000},{\"heart_rate\":56.0,\"heart_rate_max\":61.0,\"heart_rate_min\":53.0,\"start_time\":1578506280000,\"end_time\":1578506339000},{\"heart_rate\":55.0,\"heart_rate_max\":60.0,\"heart_rate_min\":52.0,\"start_time\":1578506340000,\"end_time\":1578506399000}]'\n",
        "json.loads(otroDia)\n",
        "enero8_5PM=pd.read_json(otroDia)\n",
        "enero8_5PM.head(5)  #instanciacion de otro dia que concatenar, no se cuales archivos podria concatenar ni en que orden podria sortear las files para que la concatenacion qeude de forma cronologica\n",
        "\n"
      ],
      "execution_count": 90,
      "outputs": [
        {
          "output_type": "execute_result",
          "data": {
            "text/html": [
              "<div>\n",
              "<style scoped>\n",
              "    .dataframe tbody tr th:only-of-type {\n",
              "        vertical-align: middle;\n",
              "    }\n",
              "\n",
              "    .dataframe tbody tr th {\n",
              "        vertical-align: top;\n",
              "    }\n",
              "\n",
              "    .dataframe thead th {\n",
              "        text-align: right;\n",
              "    }\n",
              "</style>\n",
              "<table border=\"1\" class=\"dataframe\">\n",
              "  <thead>\n",
              "    <tr style=\"text-align: right;\">\n",
              "      <th></th>\n",
              "      <th>heart_rate</th>\n",
              "      <th>heart_rate_max</th>\n",
              "      <th>heart_rate_min</th>\n",
              "      <th>start_time</th>\n",
              "      <th>end_time</th>\n",
              "    </tr>\n",
              "  </thead>\n",
              "  <tbody>\n",
              "    <tr>\n",
              "      <th>0</th>\n",
              "      <td>58</td>\n",
              "      <td>61</td>\n",
              "      <td>57</td>\n",
              "      <td>2020-01-08 17:00:00</td>\n",
              "      <td>2020-01-08 17:00:59</td>\n",
              "    </tr>\n",
              "    <tr>\n",
              "      <th>1</th>\n",
              "      <td>59</td>\n",
              "      <td>62</td>\n",
              "      <td>58</td>\n",
              "      <td>2020-01-08 17:01:00</td>\n",
              "      <td>2020-01-08 17:01:59</td>\n",
              "    </tr>\n",
              "    <tr>\n",
              "      <th>2</th>\n",
              "      <td>59</td>\n",
              "      <td>64</td>\n",
              "      <td>58</td>\n",
              "      <td>2020-01-08 17:02:00</td>\n",
              "      <td>2020-01-08 17:02:59</td>\n",
              "    </tr>\n",
              "    <tr>\n",
              "      <th>3</th>\n",
              "      <td>63</td>\n",
              "      <td>73</td>\n",
              "      <td>59</td>\n",
              "      <td>2020-01-08 17:03:00</td>\n",
              "      <td>2020-01-08 17:03:59</td>\n",
              "    </tr>\n",
              "    <tr>\n",
              "      <th>4</th>\n",
              "      <td>52</td>\n",
              "      <td>55</td>\n",
              "      <td>51</td>\n",
              "      <td>2020-01-08 17:04:00</td>\n",
              "      <td>2020-01-08 17:04:59</td>\n",
              "    </tr>\n",
              "  </tbody>\n",
              "</table>\n",
              "</div>"
            ],
            "text/plain": [
              "   heart_rate  heart_rate_max  ...          start_time            end_time\n",
              "0          58              61  ... 2020-01-08 17:00:00 2020-01-08 17:00:59\n",
              "1          59              62  ... 2020-01-08 17:01:00 2020-01-08 17:01:59\n",
              "2          59              64  ... 2020-01-08 17:02:00 2020-01-08 17:02:59\n",
              "3          63              73  ... 2020-01-08 17:03:00 2020-01-08 17:03:59\n",
              "4          52              55  ... 2020-01-08 17:04:00 2020-01-08 17:04:59\n",
              "\n",
              "[5 rows x 5 columns]"
            ]
          },
          "metadata": {
            "tags": []
          },
          "execution_count": 90
        }
      ]
    },
    {
      "cell_type": "code",
      "metadata": {
        "id": "jTFDL0afMT62",
        "colab_type": "code",
        "colab": {}
      },
      "source": [
        "from google.colab import files\n",
        "uploaded = files.upload()"
      ],
      "execution_count": null,
      "outputs": []
    },
    {
      "cell_type": "code",
      "metadata": {
        "id": "KR8E6Tu5q8aE",
        "colab_type": "code",
        "colab": {}
      },
      "source": [
        "open(uploaded)\n",
        "pd.read_json(uploaded)"
      ],
      "execution_count": null,
      "outputs": []
    },
    {
      "cell_type": "code",
      "metadata": {
        "id": "WeQeY9dKxH6r",
        "colab_type": "code",
        "colab": {}
      },
      "source": [
        "algo=json.dumps(uploaded)"
      ],
      "execution_count": null,
      "outputs": []
    },
    {
      "cell_type": "code",
      "metadata": {
        "id": "oh17RM4gBFzL",
        "colab_type": "code",
        "colab": {}
      },
      "source": [
        "url = 'https://raw.githubusercontent.com/JavierCorralLizarraga/Datos-de-samsung-health/master/weas%20en%20csv/com.samsung.shealth.tracker.heart_rate.202006172040.csv'\n",
        "df1 = pd.read_csv(url, sep='delimiter', engine='python')\n",
        "    "
      ],
      "execution_count": 8,
      "outputs": []
    },
    {
      "cell_type": "code",
      "metadata": {
        "id": "D6432Uhs3yJ3",
        "colab_type": "code",
        "colab": {}
      },
      "source": [
        ""
      ],
      "execution_count": null,
      "outputs": []
    }
  ]
}